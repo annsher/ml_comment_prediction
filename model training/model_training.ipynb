{
 "cells": [
  {
   "cell_type": "code",
   "execution_count": 1,
   "id": "f6164575",
   "metadata": {},
   "outputs": [
    {
     "name": "stderr",
     "output_type": "stream",
     "text": [
      "[nltk_data] Downloading package stopwords to\n",
      "[nltk_data]     C:\\Users\\USER\\AppData\\Roaming\\nltk_data...\n",
      "[nltk_data]   Package stopwords is already up-to-date!\n",
      "[nltk_data] Downloading package punkt to\n",
      "[nltk_data]     C:\\Users\\USER\\AppData\\Roaming\\nltk_data...\n",
      "[nltk_data]   Package punkt is already up-to-date!\n"
     ]
    }
   ],
   "source": [
    "#working with dataset\n",
    "import pyarrow as pa\n",
    "import pyarrow.parquet as pq\n",
    "import re\n",
    "import string\n",
    "import pandas as pd\n",
    "import numpy as np\n",
    "import re #regular expression\n",
    "import matplotlib.pyplot as plt\n",
    "import seaborn as sns\n",
    "#preprocessing\n",
    "import nltk\n",
    "from nltk.corpus import stopwords\n",
    "from nltk.tokenize import word_tokenize\n",
    "from nltk.stem import SnowballStemmer\n",
    "nltk.download('stopwords')\n",
    "nltk.download('punkt')\n",
    "#training the model\n",
    "from sklearn.model_selection import train_test_split\n",
    "from sklearn.pipeline import Pipeline\n",
    "from sklearn.linear_model import LogisticRegression\n",
    "from sklearn.feature_extraction.text import CountVectorizer\n",
    "from sklearn.feature_extraction.text import TfidfVectorizer\n",
    "from sklearn.model_selection import GridSearchCV"
   ]
  },
  {
   "cell_type": "code",
   "execution_count": 2,
   "id": "35a70e84",
   "metadata": {},
   "outputs": [],
   "source": [
    "df = pq.read_table('kinopoisk-train.parquet')\n",
    "df = pa.Table.to_pandas(df)"
   ]
  },
  {
   "cell_type": "code",
   "execution_count": 3,
   "id": "5d8157cc",
   "metadata": {},
   "outputs": [],
   "source": [
    "df.grade3.replace(\"Good\", 1, inplace=True) \n",
    "df.grade3.replace(\"Neutral\", 2, inplace=True) \n",
    "df.grade3.replace(\"Bad\", 3, inplace=True) "
   ]
  },
  {
   "cell_type": "code",
   "execution_count": 4,
   "id": "fc396d3c",
   "metadata": {},
   "outputs": [
    {
     "data": {
      "text/plain": [
       "Text(0.5, 1.0, 'Количество отзывов')"
      ]
     },
     "execution_count": 4,
     "metadata": {},
     "output_type": "execute_result"
    },
    {
     "data": {
      "image/png": "[encoded data removed]",
      "text/plain": [
       "<Figure size 640x480 with 1 Axes>"
      ]
     },
     "metadata": {},
     "output_type": "display_data"
    }
   ],
   "source": [
    "sns.countplot(x='grade3', data=df)\n",
    "plt.title(\"Количество отзывов\")"
   ]
  },
  {
   "cell_type": "code",
   "execution_count": 5,
   "id": "cb6f0442",
   "metadata": {},
   "outputs": [],
   "source": [
    "train_df, test_df = train_test_split(df, test_size=3500)"
   ]
  },
  {
   "cell_type": "code",
   "execution_count": 6,
   "id": "760b3b15",
   "metadata": {},
   "outputs": [],
   "source": [
    "russian_stop_words = stopwords.words(\"russian\")\n",
    "snowball = SnowballStemmer(language=\"russian\")\n",
    "def tokenize_sentence(text):\n",
    "    text = text.replace(r'\\n', ' ')\n",
    "    pattern = \"[^A-Za-zА-Яа-яЁё0-9]\"\n",
    "    text = re.sub(pattern,\" \",text) \n",
    "    text = text.lower()\n",
    "    tokens = word_tokenize(text, language=\"russian\")\n",
    "    tokens = [i for i in tokens if i not in string.punctuation]\n",
    "    tokens = [i for i in tokens if i not in russian_stop_words]\n",
    "    tokens = [snowball.stem(i) for i in tokens]\n",
    "    return tokens"
   ]
  },
  {
   "cell_type": "code",
   "execution_count": 9,
   "id": "0df4707b",
   "metadata": {},
   "outputs": [],
   "source": [
    "model_pipeline = Pipeline([\n",
    "    (\"vectorizer\", TfidfVectorizer(tokenizer = tokenize_sentence, lowercase=False)),\n",
    "    (\"model\", LogisticRegression(multi_class='multinomial', solver='lbfgs',random_state=0))])"
   ]
  },
  {
   "cell_type": "code",
   "execution_count": 10,
   "id": "f9da30a4",
   "metadata": {},
   "outputs": [
    {
     "name": "stderr",
     "output_type": "stream",
     "text": [
      "C:\\Users\\USER\\anaconda3\\lib\\site-packages\\sklearn\\feature_extraction\\text.py:528: UserWarning: The parameter 'token_pattern' will not be used since 'tokenizer' is not None'\n",
      "  warnings.warn(\n",
      "C:\\Users\\USER\\anaconda3\\lib\\site-packages\\sklearn\\linear_model\\_logistic.py:458: ConvergenceWarning: lbfgs failed to converge (status=1):\n",
      "STOP: TOTAL NO. of ITERATIONS REACHED LIMIT.\n",
      "\n",
      "Increase the number of iterations (max_iter) or scale the data as shown in:\n",
      "    https://scikit-learn.org/stable/modules/preprocessing.html\n",
      "Please also refer to the documentation for alternative solver options:\n",
      "    https://scikit-learn.org/stable/modules/linear_model.html#logistic-regression\n",
      "  n_iter_i = _check_optimize_result(\n"
     ]
    }
   ],
   "source": [
    "mp = model_pipeline.fit(train_df[\"content\"], train_df[\"grade3\"])"
   ]
  },
  {
   "cell_type": "code",
   "execution_count": 11,
   "id": "efb9c28b",
   "metadata": {},
   "outputs": [],
   "source": [
    "def Predictor(comment):\n",
    "    return int(model_pipeline.predict([comment]))"
   ]
  },
  {
   "cell_type": "code",
   "execution_count": 12,
   "id": "5282c499",
   "metadata": {},
   "outputs": [
    {
     "data": {
      "text/plain": [
       "0.8136107450920328"
      ]
     },
     "execution_count": 12,
     "metadata": {},
     "output_type": "execute_result"
    }
   ],
   "source": [
    "from sklearn.metrics import precision_score\n",
    "precision_score(y_true=test_df[\"grade3\"], y_pred=mp.predict(test_df[\"content\"]), average='weighted')"
   ]
  },
  {
   "cell_type": "code",
   "execution_count": 13,
   "id": "c3f8b398",
   "metadata": {},
   "outputs": [
    {
     "name": "stdout",
     "output_type": "stream",
     "text": [
      "1\n"
     ]
    }
   ],
   "source": [
    "print(Predictor('Отличный фильм!'))"
   ]
  },
  {
   "cell_type": "code",
   "execution_count": 14,
   "id": "06ebf39c",
   "metadata": {},
   "outputs": [
    {
     "name": "stdout",
     "output_type": "stream",
     "text": [
      "2\n"
     ]
    }
   ],
   "source": [
    "print(Predictor('Нормально'))"
   ]
  },
  {
   "cell_type": "code",
   "execution_count": 15,
   "id": "25a2b342",
   "metadata": {},
   "outputs": [
    {
     "name": "stdout",
     "output_type": "stream",
     "text": [
      "3\n"
     ]
    }
   ],
   "source": [
    "print(Predictor('Ужасный фильм'))"
   ]
  },
  {
   "cell_type": "code",
   "execution_count": 17,
   "id": "33b40122",
   "metadata": {},
   "outputs": [
    {
     "name": "stdout",
     "output_type": "stream",
     "text": [
      "[1]\n"
     ]
    }
   ],
   "source": [
    "import pickle\n",
    "pickle.dump(mp, open('model.pkl','wb'))\n",
    "\n",
    "model = pickle.load(open('model.pkl','rb'), encoding=\"UTF-8\")\n",
    "print(model.predict(['Отличный фильм!']))"
   ]
  },
  {
   "cell_type": "code",
   "execution_count": null,
   "id": "daeec55c",
   "metadata": {},
   "outputs": [],
   "source": []
  }
 ],
 "metadata": {
  "kernelspec": {
   "display_name": "Python 3 (ipykernel)",
   "language": "python",
   "name": "python3"
  },
  "language_info": {
   "codemirror_mode": {
    "name": "ipython",
    "version": 3
   },
   "file_extension": ".py",
   "mimetype": "text/x-python",
   "name": "python",
   "nbconvert_exporter": "python",
   "pygments_lexer": "ipython3",
   "version": "3.10.9"
  }
 },
 "nbformat": 4,
 "nbformat_minor": 5
}
